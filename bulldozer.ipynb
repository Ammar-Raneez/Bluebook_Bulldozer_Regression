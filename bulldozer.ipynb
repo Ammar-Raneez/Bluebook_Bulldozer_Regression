{
 "cells": [
  {
   "cell_type": "markdown",
   "id": "33303f82",
   "metadata": {},
   "source": [
    "# Predicting the Sale Price of Bulldozers"
   ]
  },
  {
   "cell_type": "code",
   "execution_count": 1,
   "id": "50571c1c",
   "metadata": {},
   "outputs": [],
   "source": [
    "import numpy as np\n",
    "import pandas as pd\n",
    "import matplotlib.pyplot as plt"
   ]
  },
  {
   "cell_type": "markdown",
   "id": "23265374",
   "metadata": {},
   "source": [
    "# Problem Definition\n",
    "\n",
    "> How well can we predict the future sale price of a bulldozer, given its characteristics and previous examples of similar bulldozers prices?\n",
    "\n",
    "The evaluation metric for this competition is the RMSLE (root mean squared log error) between the actual and predicted auction prices.\n",
    "\n",
    "The goal is therefore to minimize this error"
   ]
  },
  {
   "cell_type": "markdown",
   "id": "134c7680",
   "metadata": {},
   "source": [
    "# Data\n",
    "\n",
    "The data is from the Kaggle Bluebook for Bulldozers competition: https://www.kaggle.com/c/bluebook-for-bulldozers/data\n",
    "\n",
    "The link contains everything necessary: the train, test, validation data as well as the feature dictionary"
   ]
  },
  {
   "cell_type": "code",
   "execution_count": null,
   "id": "84fad335",
   "metadata": {},
   "outputs": [],
   "source": []
  }
 ],
 "metadata": {
  "kernelspec": {
   "display_name": "Python 3 (ipykernel)",
   "language": "python",
   "name": "python3"
  },
  "language_info": {
   "codemirror_mode": {
    "name": "ipython",
    "version": 3
   },
   "file_extension": ".py",
   "mimetype": "text/x-python",
   "name": "python",
   "nbconvert_exporter": "python",
   "pygments_lexer": "ipython3",
   "version": "3.7.4"
  }
 },
 "nbformat": 4,
 "nbformat_minor": 5
}
